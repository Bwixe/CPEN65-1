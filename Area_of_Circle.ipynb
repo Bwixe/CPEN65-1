{
  "nbformat": 4,
  "nbformat_minor": 0,
  "metadata": {
    "colab": {
      "provenance": [],
      "authorship_tag": "ABX9TyM8FrpBFjgE+gMiaBziWte6",
      "include_colab_link": true
    },
    "kernelspec": {
      "name": "python3",
      "display_name": "Python 3"
    },
    "language_info": {
      "name": "python"
    }
  },
  "cells": [
    {
      "cell_type": "markdown",
      "metadata": {
        "id": "view-in-github",
        "colab_type": "text"
      },
      "source": [
        "<a href=\"https://colab.research.google.com/github/EliseCubol/CPEN65-1/blob/main/Area_of_Circle.ipynb\" target=\"_parent\"><img src=\"https://colab.research.google.com/assets/colab-badge.svg\" alt=\"Open In Colab\"/></a>"
      ]
    },
    {
      "cell_type": "code",
      "execution_count": 5,
      "metadata": {
        "colab": {
          "base_uri": "https://localhost:8080/"
        },
        "id": "QPk0PXKtoFNC",
        "outputId": "e8ce5e2e-252e-4466-b456-952453f81e4f"
      },
      "outputs": [
        {
          "output_type": "stream",
          "name": "stdout",
          "text": [
            "Input the radius of the circle\n",
            "82373\n",
            "Area of the circle: 21305876945.06\n"
          ]
        }
      ],
      "source": [
        "#Create a python program that computes the area of a circle\n",
        "\n",
        "print(\"Input the radius of the circle\")\n",
        "\n",
        "r = int(input())\n",
        "\n",
        "area = 3.14*r*r\n",
        "\n",
        "print(\"Area of the circle:\", area)"
      ]
    },
    {
      "cell_type": "code",
      "source": [
        "#Create a python program that computes the area of a circle\n",
        "from math import pi\n",
        "\n",
        "r = float(input(\"Insert the radius of the circle:\"))\n",
        "\n",
        "area = pi*(r**2)\n",
        "\n",
        "print(\"The area of circle when radius is given\", area)"
      ],
      "metadata": {
        "colab": {
          "base_uri": "https://localhost:8080/"
        },
        "id": "HJH0bdzUqFNF",
        "outputId": "6ed817e1-495e-4103-e0b5-c8991f5317bb"
      },
      "execution_count": 12,
      "outputs": [
        {
          "output_type": "stream",
          "name": "stdout",
          "text": [
            "Insert the radius of the circle:53793\n",
            "The area of circle when radius is given 9090785346.607798\n"
          ]
        }
      ]
    }
  ]
}