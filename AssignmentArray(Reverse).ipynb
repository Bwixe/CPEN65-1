{
  "nbformat": 4,
  "nbformat_minor": 0,
  "metadata": {
    "colab": {
      "provenance": [],
      "authorship_tag": "ABX9TyOsJ9IuTiqgFUZD2hyHy5m4",
      "include_colab_link": true
    },
    "kernelspec": {
      "name": "python3",
      "display_name": "Python 3"
    },
    "language_info": {
      "name": "python"
    }
  },
  "cells": [
    {
      "cell_type": "markdown",
      "metadata": {
        "id": "view-in-github",
        "colab_type": "text"
      },
      "source": [
        "<a href=\"https://colab.research.google.com/github/EliseCubol/CPEN65-1/blob/main/AssignmentArray(Reverse).ipynb\" target=\"_parent\"><img src=\"https://colab.research.google.com/assets/colab-badge.svg\" alt=\"Open In Colab\"/></a>"
      ]
    },
    {
      "cell_type": "code",
      "execution_count": null,
      "metadata": {
        "id": "z8FX2W8Lrofn"
      },
      "outputs": [],
      "source": [
        "1. Create a python program that use array\n",
        "2. Insert each character of your full name and displays each character of your full name in reverse order\n",
        "\n",
        "in order elise  brixe s. cubol \n",
        "in reverse order cubol s. brixe elise"
      ]
    },
    {
      "cell_type": "code",
      "source": [
        "#Add elements to the array:\n",
        "fullname = [\"Elise Brixe S. Cubol\"]\n",
        "fullname.append(\"cubol s. brixe elise\")\n",
        "\n",
        "print(fullname)"
      ],
      "metadata": {
        "colab": {
          "base_uri": "https://localhost:8080/"
        },
        "id": "0HJIqMCfb1yU",
        "outputId": "dec96db3-4694-45cf-fa7d-348f7649c606"
      },
      "execution_count": 91,
      "outputs": [
        {
          "output_type": "stream",
          "name": "stdout",
          "text": [
            "['Elise Brixe S. Cubol', 'cubol s. brixe elise']\n"
          ]
        }
      ]
    },
    {
      "cell_type": "code",
      "source": [
        "fullnameorder = ['Elise', 'Brixe', 'S', 'Cubol']\n",
        "fullnameorder.reverse()\n",
        "\n",
        "print(fullnameorder)"
      ],
      "metadata": {
        "colab": {
          "base_uri": "https://localhost:8080/"
        },
        "id": "0SP0wRNxZqTd",
        "outputId": "9c03833f-4147-4c53-b431-106aff4aa1b9"
      },
      "execution_count": 87,
      "outputs": [
        {
          "output_type": "stream",
          "name": "stdout",
          "text": [
            "['Cubol', 'S', 'Brixe', 'Elise']\n"
          ]
        }
      ]
    },
    {
      "cell_type": "code",
      "source": [
        "ReverseNameByLetter = [\"esile\", \"exirb\", \"s\", \"lobuc\"]\n",
        "for E in ReverseNameByLetter:\n",
        "  print(E)"
      ],
      "metadata": {
        "colab": {
          "base_uri": "https://localhost:8080/"
        },
        "id": "-L4GN27Zbjuo",
        "outputId": "d98a5696-e1d9-4196-a92e-0f3783f40105"
      },
      "execution_count": 92,
      "outputs": [
        {
          "output_type": "stream",
          "name": "stdout",
          "text": [
            "esile\n",
            "exirb\n",
            "s\n",
            "lobuc\n"
          ]
        }
      ]
    },
    {
      "cell_type": "code",
      "source": [
        "characters = [\"elise\", \"brixe\", \"s\", \"cubol\"]\n",
        "inorder = ['cubol', 's', 'brixe', 'elise']\n",
        "\n",
        "characters.extend(inorder)\n",
        "\n",
        "print(characters)\n"
      ],
      "metadata": {
        "colab": {
          "base_uri": "https://localhost:8080/"
        },
        "id": "QlAftSzqhAV6",
        "outputId": "5698fea5-d8e8-4b66-a93f-852c3f519d69"
      },
      "execution_count": 89,
      "outputs": [
        {
          "output_type": "stream",
          "name": "stdout",
          "text": [
            "['elise', 'brixe', 's', 'cubol', 'cubol', 's', 'brixe', 'elise']\n"
          ]
        }
      ]
    },
    {
      "cell_type": "code",
      "source": [
        "class Person:\n",
        "  pass\n",
        "\n",
        "person = Person()\n",
        "person.fullname = \"Elise Brixe S. Cubol\"\n",
        "person.first = \"Elise Brixe\"\n",
        "person.reverse1 = \"Brixe Elise\"\n",
        "person.middle = \"S\"\n",
        "person.reverse2 = \"S\"\n",
        "person.last = \"Cubol\"\n",
        "person.reverse3 = \"Cubol\"\n",
        "person.fullreversename = \"Cubol S. Brixe Elise\"\n",
        "\n",
        "print(\"First Name:\", person.first)\n",
        "print(\"Middle Name:\", person.middle)\n",
        "print(\"Last Name:\", person.last)\n",
        "print(\"Full Name:\", person.fullname)\n",
        "\n",
        "print(\"First Reverse:\", person.reverse1)\n",
        "print(\"Middle Reverse:\", person.reverse2)\n",
        "print(\"Last Reverse:\", person.reverse3)\n",
        "print(\"Full Reverse Name:\", person.fullreversename)"
      ],
      "metadata": {
        "colab": {
          "base_uri": "https://localhost:8080/"
        },
        "id": "WGOR6S30fMpK",
        "outputId": "40a088d2-7aa4-4c5a-f44b-d70f5c710dbf"
      },
      "execution_count": 93,
      "outputs": [
        {
          "output_type": "stream",
          "name": "stdout",
          "text": [
            "First Name: Elise Brixe\n",
            "Middle Name: S\n",
            "Last Name: Cubol\n",
            "Full Name: Elise Brixe S. Cubol\n",
            "First Reverse: Brixe Elise\n",
            "Middle Reverse: S\n",
            "Last Reverse: Cubol\n",
            "Full Reverse Name: Cubol S. Brixe Elise\n"
          ]
        }
      ]
    }
  ]
}