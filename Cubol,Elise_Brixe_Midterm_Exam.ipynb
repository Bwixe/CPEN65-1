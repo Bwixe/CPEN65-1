{
  "nbformat": 4,
  "nbformat_minor": 0,
  "metadata": {
    "colab": {
      "provenance": [],
      "authorship_tag": "ABX9TyOp+FZBU54m4y1NSLPmKnat",
      "include_colab_link": true
    },
    "kernelspec": {
      "name": "python3",
      "display_name": "Python 3"
    },
    "language_info": {
      "name": "python"
    }
  },
  "cells": [
    {
      "cell_type": "markdown",
      "metadata": {
        "id": "view-in-github",
        "colab_type": "text"
      },
      "source": [
        "<a href=\"https://colab.research.google.com/github/EliseCubol/CPEN65-1/blob/main/Cubol%2CElise_Brixe_Midterm_Exam.ipynb\" target=\"_parent\"><img src=\"https://colab.research.google.com/assets/colab-badge.svg\" alt=\"Open In Colab\"/></a>"
      ]
    },
    {
      "cell_type": "markdown",
      "source": [],
      "metadata": {
        "id": "E6907K3zi_1a"
      }
    },
    {
      "cell_type": "code",
      "source": [
        "import array as arr\n",
        "numbers = arr.array('i',[0, 1, 2, 3, 4, 5, 6, 7, 8, 9])\n",
        "print(numbers)\n",
        "\n",
        "index = int(input(\"Enter an Index: \"))\n",
        "print(\"Index Value\", index, 'is: ', numbers[index])\n",
        "current = 0\n",
        "\n",
        "for x in numbers:\n",
        "  sum = current + numbers[x]\n",
        "  current = sum\n",
        "print('Sum: ',sum)"
      ],
      "metadata": {
        "colab": {
          "base_uri": "https://localhost:8080/"
        },
        "id": "7dqin-LVibFf",
        "outputId": "a28157cb-999b-4725-a205-21b343e50bf5"
      },
      "execution_count": 117,
      "outputs": [
        {
          "output_type": "stream",
          "name": "stdout",
          "text": [
            "array('i', [0, 1, 2, 3, 4, 5, 6, 7, 8, 9])\n",
            "Enter an Index: 4\n",
            "Index Value 4 is:  4\n",
            "Sum:  45\n"
          ]
        }
      ]
    },
    {
      "cell_type": "code",
      "source": [
        "import array as arr\n",
        "\n",
        "numbers = arr.array('i', [1,2,3,4,5,6,7,8,9])\n",
        "\n",
        "numbers.append(10)\n",
        "print(numbers)    # Output: array('i', [1,2,3,4,5,6,7,8,9,10]\n",
        "\n",
        "# Extend() appends to the end of the array\n",
        "numbers.extend([11,12,13])\n",
        "print(numbers)       # Output: array('i', [1,2,3,4,5,6,7,8,9,10,11,12,13]"
      ],
      "metadata": {
        "colab": {
          "base_uri": "https://localhost:8080/"
        },
        "id": "vLvGeNI3UDs3",
        "outputId": "ed76aebb-56b0-45bc-f6c5-5d789c44fab0"
      },
      "execution_count": 76,
      "outputs": [
        {
          "output_type": "stream",
          "name": "stdout",
          "text": [
            "array('i', [1, 2, 3, 4, 5, 6, 7, 8, 9, 10])\n",
            "array('i', [1, 2, 3, 4, 5, 6, 7, 8, 9, 10, 11, 12, 13])\n"
          ]
        }
      ]
    },
    {
      "cell_type": "code",
      "source": [
        "from array import *\n",
        "arr_num = array('i', [1,2,3,4,5,6,7,8,9,10])\n",
        "print(\"Original \"+str(arr_num))\n",
        "\n",
        "print(\"Insert new integer 11 before 10:\")\n",
        "arr_num.insert(9,11)\n",
        "\n",
        "print(\"New array \"+str(arr_num))"
      ],
      "metadata": {
        "colab": {
          "base_uri": "https://localhost:8080/"
        },
        "id": "aOKMjPWBagLJ",
        "outputId": "fe5b0e93-4804-4d70-a696-3872f2615e4e"
      },
      "execution_count": 86,
      "outputs": [
        {
          "output_type": "stream",
          "name": "stdout",
          "text": [
            "Original array('i', [1, 2, 3, 4, 5, 6, 7, 8, 9, 10])\n",
            "Insert new integer 11 before 10:\n",
            "New array array('i', [1, 2, 3, 4, 5, 6, 7, 8, 9, 11, 10])\n"
          ]
        }
      ]
    },
    {
      "cell_type": "code",
      "source": [
        "#The original array\n",
        "arr = [1,2,3,4,5]\n",
        "print(\"Before reverse Array is :\",arr)\n",
        " \n",
        "arr.reverse() #reversing using reverse()\n",
        "print(\"After reversing the Array is :\",arr)"
      ],
      "metadata": {
        "colab": {
          "base_uri": "https://localhost:8080/"
        },
        "id": "m3BUIA9Jav-x",
        "outputId": "797db6fd-9af2-40b8-caf0-866ef0b7fdcc"
      },
      "execution_count": 91,
      "outputs": [
        {
          "output_type": "stream",
          "name": "stdout",
          "text": [
            "Before reverse Array is : [1, 2, 3, 4, 5]\n",
            "After reversing the Array is : [5, 4, 3, 2, 1]\n"
          ]
        }
      ]
    },
    {
      "cell_type": "code",
      "source": [
        "def RepeatingElement(array, n):\n",
        "\tMin = 1\n",
        "\tmyset = dict()\n",
        "\tfor i in range(1,n):\n",
        "\t\tif array[i] in myset.keys():\n",
        "\t\t\tMin = i\n",
        "\t\telse: \n",
        "\t\t\tmyset[array[i]] = 1\n",
        "\tif (Min != -1):\n",
        "\t\tprint(\"The repeating element is\",\n",
        "\t\t\tarray[Min])\n",
        "\telse:\n",
        "\t\tprint(\"There are no repeating elements\")\n",
        "\n",
        "array = [1,2,2,3,4,5]\n",
        "n = len(array)\n",
        "RepeatingElement(array, n)"
      ],
      "metadata": {
        "colab": {
          "base_uri": "https://localhost:8080/"
        },
        "id": "mCH9GMuVhouL",
        "outputId": "bbfdb98e-21c6-4821-db74-a9574bd66f83"
      },
      "execution_count": 114,
      "outputs": [
        {
          "output_type": "stream",
          "name": "stdout",
          "text": [
            "The repeating element is 2\n"
          ]
        }
      ]
    },
    {
      "cell_type": "markdown",
      "source": [],
      "metadata": {
        "id": "wJqnv0EJjJ37"
      }
    }
  ]
}