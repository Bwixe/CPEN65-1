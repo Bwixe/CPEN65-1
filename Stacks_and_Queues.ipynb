{
  "nbformat": 4,
  "nbformat_minor": 0,
  "metadata": {
    "colab": {
      "provenance": [],
      "authorship_tag": "ABX9TyOMKe5P1mmuljKktkBFPHkj",
      "include_colab_link": true
    },
    "kernelspec": {
      "name": "python3",
      "display_name": "Python 3"
    },
    "language_info": {
      "name": "python"
    }
  },
  "cells": [
    {
      "cell_type": "markdown",
      "metadata": {
        "id": "view-in-github",
        "colab_type": "text"
      },
      "source": [
        "<a href=\"https://colab.research.google.com/github/EliseCubol/CPEN65-1/blob/main/Stacks_and_Queues.ipynb\" target=\"_parent\"><img src=\"https://colab.research.google.com/assets/colab-badge.svg\" alt=\"Open In Colab\"/></a>"
      ]
    },
    {
      "cell_type": "markdown",
      "source": [
        "rerevise ng onti para maipakita yung fifo (def to pop()\n"
      ],
      "metadata": {
        "id": "MoLw50Nhlwr7"
      }
    },
    {
      "cell_type": "code",
      "source": [
        "class Stack:                                  # (LIFO)\n",
        "  def __init__(self):\n",
        "    self.stack = []                           # OOP Concepts (stack implementation)\n",
        "\n",
        "  def add(self,dataval):\n",
        "    if dataval not in self.stack:\n",
        "      return self.stack.append(dataval)\n",
        "    else:\n",
        "      return False\n",
        "  def remove(self):\n",
        "    if len(self.stack)<=0:\n",
        "      return (\"No element in the stack\")\n",
        "    else:\n",
        "      return self.stack.pop()\n",
        "\n",
        "AStack = Stack()\n",
        "AStack.add(\"a\")\n",
        "AStack.add(\"b\")\n",
        "AStack.add(\"c\")\n",
        "print(AStack.stack)\n",
        "AStack.remove()\n",
        "AStack.remove()\n",
        "print(AStack.stack)"
      ],
      "metadata": {
        "colab": {
          "base_uri": "https://localhost:8080/"
        },
        "id": "dvwlLHz9psD0",
        "outputId": "9806d0b6-e398-47f8-9b8f-4c27d45fef0d"
      },
      "execution_count": 13,
      "outputs": [
        {
          "output_type": "stream",
          "name": "stdout",
          "text": [
            "['a', 'b', 'c']\n",
            "['a']\n"
          ]
        }
      ]
    },
    {
      "cell_type": "code",
      "source": [
        "#Appliation\n",
        "\n",
        "#Implement the above program by Queues Data Structure (enqueue and dequeue/FIFO)"
      ],
      "metadata": {
        "id": "gCejZZEzj3rz"
      },
      "execution_count": null,
      "outputs": []
    },
    {
      "cell_type": "code",
      "source": [
        "from collections import deque\n",
        "\n",
        "stack = deque()\n",
        " \n",
        "#append() function to push\n",
        "#element in the stack\n",
        "stack.append(\"a\")\n",
        "stack.append(\"b\")\n",
        "stack.append(\"c\")\n",
        " \n",
        "print(\"stacks:\")\n",
        "print(stack)\n",
        " \n",
        "#pop() function to pop\n",
        "print('\\nElements popped from stack:')\n",
        "print(stack.pop())\n",
        "print(stack.pop())\n",
        "print(stack.pop())\n",
        " \n",
        "print(\"\\nStack after elements are popped:\")\n",
        "print(stack)"
      ],
      "metadata": {
        "colab": {
          "base_uri": "https://localhost:8080/"
        },
        "id": "vRGL0v2vEcfk",
        "outputId": "af8cf65b-ffd6-4c9d-ffd4-a6667f9fcb1c"
      },
      "execution_count": 7,
      "outputs": [
        {
          "output_type": "stream",
          "name": "stdout",
          "text": [
            "stacks:\n",
            "deque(['a', 'b', 'c'])\n",
            "\n",
            "Elements popped from stack:\n",
            "c\n",
            "b\n",
            "a\n",
            "\n",
            "Stack after elements are popped:\n",
            "deque([])\n"
          ]
        }
      ]
    },
    {
      "cell_type": "code",
      "source": [
        "class Stack:\n",
        "\n",
        "    def __init__(self):\n",
        "        self.stack = []\n",
        "\n",
        "    def pop(self):\n",
        "        if len(self.stack)<1:\n",
        "            return None\n",
        "        return self.stack.pop()\n",
        "\n",
        "    def push(self, item):\n",
        "        self.stack.append(item)\n",
        "\n",
        "    def size(self):\n",
        "        return len(self.stack)\n",
        "\n",
        "queue = []\n",
        "\n",
        "queue.append(\"a\")\n",
        "queue.append(\"b\")\n",
        "queue.append(\"c\")\n",
        "\n",
        "print(queue.pop(0))\n",
        "print(queue.pop(0))\n",
        "print(queue.pop(0))"
      ],
      "metadata": {
        "colab": {
          "base_uri": "https://localhost:8080/"
        },
        "id": "Wy1zilqkGbth",
        "outputId": "941745a0-3e20-4194-d4fa-eb8c4d67bc9b"
      },
      "execution_count": 12,
      "outputs": [
        {
          "output_type": "stream",
          "name": "stdout",
          "text": [
            "a\n",
            "b\n",
            "c\n"
          ]
        }
      ]
    }
  ]
}